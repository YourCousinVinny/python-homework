{
 "cells": [
  {
   "cell_type": "code",
   "execution_count": 51,
   "id": "f48f2a5b",
   "metadata": {},
   "outputs": [],
   "source": [
    "from pathlib import Path \n",
    "import csv\n",
    "import numpy as np \n",
    "import numpy_financial as npf \n",
    "import pandas as pd "
   ]
  },
  {
   "cell_type": "code",
   "execution_count": 169,
   "id": "77a5b8ef",
   "metadata": {},
   "outputs": [
    {
     "name": "stdout",
     "output_type": "stream",
     "text": [
      "There are 86 months in this data set\n",
      "The net Profit/Loss in this data set is: $ 38382578\n",
      "The average change is: $ -2315.12\n",
      "The biggest increase in profits were Feb-2012 which was $ 1926159\n",
      "The biggest Decrease in profits were Sep-2013 which was $ -2196167\n",
      "There are 86 months in this data set\n"
     ]
    }
   ],
   "source": [
    "csvpath = Path(\"C:/Users/Vincenzo A. Piccolo/Desktop/Homework_VP/Mudule-2/python-homework/PyBank/budget_data.csv\")\n",
    "\n",
    "months = []\n",
    "profitLoss = []\n",
    "\n",
    "with open(csvpath, 'r') as budgetData:\n",
    "    csvreader = csv.reader(budgetData, delimiter=',')\n",
    "    next(csvreader)\n",
    "    \n",
    "    for row in csvreader:\n",
    "        months.append(str(row[0]))\n",
    "        profitLoss.append(int(row[1]))\n",
    "\n",
    "numberOfMonths = len(months)   \n",
    "\n",
    "netpl = 0 \n",
    "\n",
    "for x in profitLoss:\n",
    "    netpl = netpl + x\n",
    "\n",
    "avgpl = []    \n",
    "lastMonth = 0\n",
    "\n",
    "for x in range(len(profitLoss)):\n",
    "    if x == 0:\n",
    "        lastMonth = profitLoss[x]\n",
    "    else:\n",
    "        monthDiff = profitLoss[x] - lastMonth\n",
    "        avgpl.append(monthDiff)\n",
    "        lastMonth = profitLoss[x]\n",
    "\n",
    "length = len(avgpl)\n",
    "total = sum(avgpl)\n",
    "totavg = round(total / length, 2) \n",
    "\n",
    "bigUp = ''\n",
    "amtUp = 0 \n",
    "bigDown = ''\n",
    "amtDown = 0\n",
    "\n",
    "for x in range(len(avgpl)):\n",
    "    if avgpl[x] > amtUp:\n",
    "        amtUp = avgpl[x]\n",
    "        bigUp = months[x+1]\n",
    "    elif avgpl[x] < amtDown:\n",
    "        amtDown = avgpl[x]\n",
    "        bigDown = months[x+1]\n",
    "\n",
    "print(\"There are\" , numberOfMonths , \"months in this data set\")\n",
    "\n",
    "print(\"The net Profit/Loss in this data set is: $\",netpl)\n",
    "\n",
    "print(\"The average change is: $\" , totavg)\n",
    "\n",
    "print(\"The biggest increase in profits were\" , bigUp , \"which was $\" , amtUp)\n",
    "\n",
    "print(\"The biggest Decrease in profits were\" , bigDown , \"which was $\" , amtDown)\n",
    "\n",
    "Solution = [print(\"There are\" , numberOfMonths , \"months in this data set\")]\n",
    "\n",
    "outputPath = Path('C:/Users/Vincenzo A. Piccolo/Desktop/Homework_VP/Mudule-2/python-homework/PyBank/Completed Data.txt')\n",
    "\n",
    "with open(outputPath, 'w') as budgetData:\n",
    "    budgetData.write(\"Financial Analysis.\\n\")"
   ]
  },
  {
   "cell_type": "code",
   "execution_count": null,
   "id": "ff34a63e",
   "metadata": {},
   "outputs": [],
   "source": []
  }
 ],
 "metadata": {
  "kernelspec": {
   "display_name": "Python 3",
   "language": "python",
   "name": "python3"
  },
  "language_info": {
   "codemirror_mode": {
    "name": "ipython",
    "version": 3
   },
   "file_extension": ".py",
   "mimetype": "text/x-python",
   "name": "python",
   "nbconvert_exporter": "python",
   "pygments_lexer": "ipython3",
   "version": "3.8.8"
  }
 },
 "nbformat": 4,
 "nbformat_minor": 5
}
